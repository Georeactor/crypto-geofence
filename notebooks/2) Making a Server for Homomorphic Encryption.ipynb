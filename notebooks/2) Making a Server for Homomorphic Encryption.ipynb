{
 "cells": [
  {
   "cell_type": "code",
   "execution_count": null,
   "metadata": {
    "collapsed": true
   },
   "outputs": [],
   "source": [
    "\"\"\"\n",
    "In the previous notebook, we covered what homomorphic encryption was, and an example of how we could use it\n",
    "in Python 3.  This notebook turns that into a service, using the Flask web framework.\n",
    "\"\"\"\n",
    "\n",
    "# installing basic web server stuff\n",
    "# pip install Flask Jinja2 MarkupSafe wsgiref"
   ]
  },
  {
   "cell_type": "code",
   "execution_count": null,
   "metadata": {
    "collapsed": true
   },
   "outputs": [],
   "source": [
    "# hello world server.py in Flask\n",
    "\n",
    "import os, flask\n",
    "\n",
    "app = flask.Flask(__name__)\n",
    "\n",
    "@app.route('/')\n",
    "def homepage():\n",
    "    return 'hello world'\n",
    "\n",
    "if __name__ == '__main__':\n",
    "    port = int(os.environ.get('PORT', 5000))\n",
    "    app.run(host='0.0.0.0', port=port, debug=True)"
   ]
  },
  {
   "cell_type": "code",
   "execution_count": null,
   "metadata": {
    "collapsed": true
   },
   "outputs": [],
   "source": [
    "\"\"\"\n",
    "That server doesn't do a whole lot.\n",
    "For my goal, the geo example, we want to receive:\n",
    "- encrypted latitude\n",
    "- encrypted longitude\n",
    "- the Paillier Public Key, which for some reason is two large numbers ('g' and 'n')\n",
    "\n",
    "Here's how I might load the data:\n",
    "\"\"\"\n",
    "\n",
    "import os, flask, json\n",
    "from flask import request\n",
    "from phe import paillier\n",
    "\n",
    "app = flask.Flask(__name__)\n",
    "\n",
    "@app.route('/calculate')\n",
    "def calculate_geo():\n",
    "    # rebuild public key\n",
    "    g = int(request.args.get('g'))\n",
    "    n = int(request.args.get('n'))\n",
    "    customerKey = paillier.PaillierPublicKey(g=g, n=n)\n",
    "\n",
    "    # load the coordinates as EncryptedNumber type\n",
    "    lat = paillier.EncryptedNumber(customerKey, int(request.args.get('lat')))\n",
    "    lng = paillier.EncryptedNumber(customerKey, int(request.args.get('lng')))\n",
    "\n",
    "    return 'data loaded'\n",
    "\n",
    "if __name__ == '__main__':\n",
    "    port = int(os.environ.get('PORT', 5000))\n",
    "    app.run(host='0.0.0.0', port=port, debug=True)"
   ]
  },
  {
   "cell_type": "code",
   "execution_count": null,
   "metadata": {
    "collapsed": true
   },
   "outputs": [],
   "source": [
    "# let's continue writing calculate_geo to compare to the geo-box\n",
    "# Paillier cryptosystem seems to works only on positive integers, so we cannot use -180.00 to +180.00 coordinates.\n",
    "# Coordinates should be from 0 to 360, * 10^(decimal places of accuracy)... so I used 0 - 360,000\n",
    "\n",
    "# include random library\n",
    "from random import random\n",
    "\n",
    "geobox = [west, south, east, north] # xmin, ymin, xmax, ymax order plz\n",
    "\n",
    "def calculate_geo():\n",
    "    g = int(request.args.get('g'))\n",
    "    n = int(request.args.get('n'))\n",
    "    customerKey = paillier.PaillierPublicKey(g=g, n=n)\n",
    "    lat = paillier.EncryptedNumber(customerKey, int(request.args.get('lat')))\n",
    "    lng = paillier.EncryptedNumber(customerKey, int(request.args.get('lng')))\n",
    "\n",
    "    # use customer's public key to encrypt the geobox boundaries\n",
    "    west = customerKey.encrypt(geobox[0])\n",
    "    south = customerKey.encrypt(geobox[1])\n",
    "    east = customerKey.encrypt(geobox[2])\n",
    "    north = customerKey.encrypt(geobox[3])\n",
    "\n",
    "    # calculate the offset of the point to the box bounds\n",
    "    # inside the box, north and east should be positive, and south and west should be negative\n",
    "    # (you can tell when a number overflows negative because it is many, many times greater than 0-360,000)\n",
    "    # to make the box coordinates more secret, let's also multiply by random   \n",
    "    southOffset = (south - lat) * random()\n",
    "    northOffset = (north - lat) * random()\n",
    "    westOffset = (west - lng) * random()\n",
    "    eastOffset = (east - lng) * random()\n",
    "    \n",
    "    # the client, with the Private Key, will know how to decrypt and interpret this result\n",
    "    return json.dumps({\n",
    "      \"south\": str(northOffset.ciphertext()),\n",
    "      \"north\": str(southOffset.ciphertext()),\n",
    "      \"west\": str(westOffset.ciphertext()),\n",
    "      \"east\": str(eastOffset.ciphertext()),\n",
    "    })"
   ]
  }
 ],
 "metadata": {
  "kernelspec": {
   "display_name": "Python 3",
   "language": "python",
   "name": "python3"
  },
  "language_info": {
   "codemirror_mode": {
    "name": "ipython",
    "version": 3
   },
   "file_extension": ".py",
   "mimetype": "text/x-python",
   "name": "python",
   "nbconvert_exporter": "python",
   "pygments_lexer": "ipython3",
   "version": "3.6.1"
  }
 },
 "nbformat": 4,
 "nbformat_minor": 2
}

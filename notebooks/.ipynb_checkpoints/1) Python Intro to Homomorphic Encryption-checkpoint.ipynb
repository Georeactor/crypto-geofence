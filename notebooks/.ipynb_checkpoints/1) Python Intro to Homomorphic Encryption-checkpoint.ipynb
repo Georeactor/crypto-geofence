{
 "cells": [
  {
   "cell_type": "code",
   "execution_count": null,
   "metadata": {
    "collapsed": true
   },
   "outputs": [],
   "source": [
    "\"\"\"\n",
    "Python Intro to Homomorphic Encryption\n",
    "--\n",
    "This Jupyter notebook covers the basics of choosing a cryptosystem, features of homomorphic encryption,\n",
    "and how to get started.\n",
    "\n",
    "The code is in Python 3.\n",
    "\"\"\"\n",
    "\n",
    "## What is it\n",
    "\n",
    "\"\"\"\n",
    "Homomorphic encryption allows you to encrypt a number in a way that other services can run arithmetic and logical\n",
    "operations on them.\n",
    "\n",
    "For example, if you wanted to exchange currencies at the bank, but first wanted to know the exchange rate and fee\n",
    "for the transaction, typically you send the amount to the banks, or they send you a formula to predict their\n",
    "charges. With homomorphic encryption, you could send an encrypted dollar-amount to the bank, they would run their\n",
    "exchange rate / fee algorithm, and then you could decrypt the result, without revealing how much money you were\n",
    "considering transfering / exchanging.\n",
    "\n",
    "I've heard some ideas about applying this to medical scans... maybe a service could diagnose you without having to see\n",
    "your un-encrypted private data.\n",
    "\n",
    "My goal was to use homomorphic encryption to protect a client's geolocation. You may have other applications in mind.\n",
    "\"\"\"\n",
    "\n",
    "## Partial, Somewhat, Fully\n",
    "\n",
    "\"\"\"\n",
    "Homomorphic encryption systems have been researched for years. They fall into three categories:\n",
    "\n",
    "- partially homomorphic: only covers some arithmetic / logic operations (for example, addition not multiplication)\n",
    "- somewhat homomorphic: covers only a few sequential operations before cyphertext is too large / noisy to decypher\n",
    "- fully homomorphic encryption: first achieved in 2009, allows all logic operations\n",
    "\"\"\"\n",
    "\n",
    "## Choosing a homomorphic encryption system\n",
    "\n",
    "\"\"\"\n",
    "When you search GitHub for \"homomorphic encryption\", you will find libraries in several programming languages.\n",
    "You can see several different cryptosystems, with different levels (partial, somewhat, fully homomorphic) and\n",
    "different levels of covering those features.\n",
    "\n",
    "There are fully homomorphic libraries in C++, but I want libraries with JavaScript implementations that work\n",
    "in the browser. So I picked the Paillier partially-homomorphic cryptosystem.\n",
    "\"\"\"\n"
   ]
  },
  {
   "cell_type": "code",
   "execution_count": 2,
   "metadata": {
    "collapsed": true
   },
   "outputs": [],
   "source": [
    "# pip install phe\n",
    "\n",
    "\"\"\"\n",
    "When you run this on the command line, you will have installed a module for the Paillier cryptosystem,\n",
    "called \"phe\" for partially homomorphic encryption.\n",
    "\n",
    "If you don't have pip installed yet, read: https://pip.pypa.io/en/stable/installing/\n",
    "\n",
    "The following line checks that we can import the module:\n",
    "\"\"\"\n",
    "\n",
    "from phe import paillier"
   ]
  },
  {
   "cell_type": "code",
   "execution_count": 35,
   "metadata": {},
   "outputs": [
    {
     "name": "stdout",
     "output_type": "stream",
     "text": [
      "<PaillierPublicKey c4067d8a12>\n",
      "<PaillierPrivateKey for <PaillierPublicKey c4067d8a12>>\n"
     ]
    }
   ],
   "source": [
    "# Let's start with the exchange rate example.\n",
    "\n",
    "# generate the public and private keys\n",
    "# if this part is confusing, read https://blog.vrypan.net/2013/08/28/public-key-cryptography-for-non-geeks/\n",
    "keypair = paillier.generate_paillier_keypair()\n",
    "publicKey = keypair[0]\n",
    "privateKey = keypair[1]\n",
    "\n",
    "print(publicKey)\n",
    "print(privateKey)"
   ]
  },
  {
   "cell_type": "code",
   "execution_count": 36,
   "metadata": {},
   "outputs": [
    {
     "name": "stdout",
     "output_type": "stream",
     "text": [
      "<phe.paillier.EncryptedNumber object at 0x10b5d40f0>\n",
      "184938548073768365275124605426906243648421542559252756981204757706650385771508898989023023661377031567422202819527519834794491208581106096784570627247178398510849624278762627734748061168466172685901429787223800118881428642154349377617897495238102412309855588340231322387361538252348246992372925840226587550745751618760855354232248471336217934027405880389590729070666933304905278540958197520772030200342046854311356884015534410599436041063583719581969330691997765005795233677708415290740002725956303400745729602916423829248745340530257919754215687852374234131560509334344956835036397420527233685734716417244707853488457976353859199733910427053988799548529629337986157087981943823977688647342215897460438514943311234233963880085355795556517633344143271782012549999106741686718502383995994409895646686796564723252235592489556711948884285357020650502844879708363386578764323834959915795118467401497300279675375329429347611737031645530469915336182361789007832068800618482244646840863380305885693144462167978835145488635125610169745156412437446431222096525153531314365083446046571877360997343092742777400750327615495597995171162999886880777357193050886604782780543929180076699754892699565892743825448668964318721483856687104700563563257988\n"
     ]
    }
   ],
   "source": [
    "# let's protect our secret dollar amount\n",
    "# note that Paillier only supports positive integers\n",
    "\n",
    "dollarAmount = 10500\n",
    "secretDollarAmount = publicKey.encrypt(dollarAmount)\n",
    "\n",
    "print(secretDollarAmount)\n",
    "print(secretDollarAmount.ciphertext())"
   ]
  },
  {
   "cell_type": "code",
   "execution_count": 45,
   "metadata": {},
   "outputs": [
    {
     "name": "stdout",
     "output_type": "stream",
     "text": [
      "<phe.paillier.EncryptedNumber object at 0x10b551be0>\n",
      "391649359003764889463514649346886636370096960359403722585474698362264072997248420842135418919324930382330525761901853252430964999443781202684856254771818089504695864355247663257821772441226122262784193819053112344780610539532398709169004488736583741374059875827141903207702391757507367919693648248567098423045419999947536078647112223172581226290426905957254802285928332505595563255939404905368139945194412268953789214220280486565331526043641081811834625116493296340832675816293805107492829947663377776777473671687882727316799787394848973288991156415897114237276947741829684759213290119807281575900508720979498160433930710973642845049171260130232245491431772239909726493495352475512276908916799869194088410851857297733165064875412199198714863291522785200783371106406626005103099884177402057397731821868459944429986219246295604350694562504947089211792527528060853074724790090585041249789363289380099561595036127253526753249883752271016224425695583976860317845463841348648409528409388637264176689804553550064877381560433089335514355753884577679219454470846173480295521547019606912889379534260722305363047895506643822976975788900350338406196645006031258824889930754383362825053975080088097280900008133257274250639399280888018785801802353\n"
     ]
    }
   ],
   "source": [
    "# that's a big number!\n",
    "# but more importantly, the SketchyExchangeBank will not know how much money is involved\n",
    "# the bank will need our PUBLIC key to move its numbers into our crypto-space\n",
    "\n",
    "def SketchyExchangeBank(customerKey, customerSecretDollars):\n",
    "    # secret formula: $19 base fee, then 2.42 / dollar\n",
    "    baseFee = 19\n",
    "    exchangeRate = 2.42 # we are able to multiply by a decimal\n",
    "    \n",
    "    encryptedFee = customerKey.encrypt(baseFee)\n",
    "    # the libary facilitates add / subtract / multiply operations within Paillier cryptosystem\n",
    "    estimate = customerSecretDollars - encryptedFee\n",
    "    estimate = estimate * exchangeRate\n",
    "    return estimate\n",
    "\n",
    "# what comes back is another EncryptedNumber\n",
    "response = SketchyExchangeBank(publicKey, secretDollarAmount)\n",
    "print(response)\n",
    "print(response.ciphertext())"
   ]
  },
  {
   "cell_type": "code",
   "execution_count": 46,
   "metadata": {},
   "outputs": [
    {
     "name": "stdout",
     "output_type": "stream",
     "text": [
      "25364.02\n"
     ]
    }
   ],
   "source": [
    "# Back on the client side, let's decrypt the result from the bank\n",
    "print(privateKey.decrypt(response))"
   ]
  },
  {
   "cell_type": "code",
   "execution_count": null,
   "metadata": {
    "collapsed": true
   },
   "outputs": [],
   "source": []
  }
 ],
 "metadata": {
  "kernelspec": {
   "display_name": "Python 3",
   "language": "python",
   "name": "python3"
  },
  "language_info": {
   "codemirror_mode": {
    "name": "ipython",
    "version": 3
   },
   "file_extension": ".py",
   "mimetype": "text/x-python",
   "name": "python",
   "nbconvert_exporter": "python",
   "pygments_lexer": "ipython3",
   "version": "3.6.1"
  }
 },
 "nbformat": 4,
 "nbformat_minor": 2
}

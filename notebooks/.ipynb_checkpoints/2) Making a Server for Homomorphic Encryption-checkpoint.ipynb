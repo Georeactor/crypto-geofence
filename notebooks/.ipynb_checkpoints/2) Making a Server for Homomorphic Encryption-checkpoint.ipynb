{
 "cells": [
  {
   "cell_type": "code",
   "execution_count": null,
   "metadata": {
    "collapsed": true
   },
   "outputs": [],
   "source": [
    "\"\"\"\n",
    "In the previous notebook, we covered what homomorphic encryption was, and an example of how we could use it\n",
    "in Python 3.  This notebook turns that into a service, using the Flask web framework.\n",
    "\"\"\"\n",
    "\n",
    "# installing basic web server stuff\n",
    "# pip install Flask Jinja2 MarkupSafe wsgiref"
   ]
  },
  {
   "cell_type": "code",
   "execution_count": null,
   "metadata": {
    "collapsed": true
   },
   "outputs": [],
   "source": [
    "# hello world server.py in Flask\n",
    "\n",
    "import os, flask\n",
    "\n",
    "app = flask.Flask(__name__)\n",
    "\n",
    "@app.route('/')\n",
    "def homepage():\n",
    "    return 'hello world'\n",
    "\n",
    "if __name__ == '__main__':\n",
    "    port = int(os.environ.get('PORT', 5000))\n",
    "    app.run(host='0.0.0.0', port=port, debug=True)"
   ]
  },
  {
   "cell_type": "code",
   "execution_count": null,
   "metadata": {
    "collapsed": true
   },
   "outputs": [],
   "source": [
    "\"\"\"\n",
    "That server doesn't do a whole lot.\n",
    "For my goal, the geo example, we want to receive:\n",
    "- encrypted latitude\n",
    "- encrypted longitude\n",
    "- the Paillier Public Key, which for some reason is two large numbers ('g' and 'n')\n",
    "\n",
    "Here's how I might load the data:\n",
    "\"\"\"\n",
    "\n",
    "import os, flask, json\n",
    "from flask import request\n",
    "from phe import paillier\n",
    "\n",
    "app = flask.Flask(__name__)\n",
    "\n",
    "@app.route('/calculate')\n",
    "def calculate_geo():\n",
    "    # rebuild public key\n",
    "    g = int(request.args.get('g'))\n",
    "    n = int(request.args.get('n'))\n",
    "    customerKey = paillier.PaillierPublicKey(g=g, n=n)\n",
    "\n",
    "    # load the coordinates as EncryptedNumber type\n",
    "    lat = paillier.EncryptedNumber(customerKey, int(request.args.get('lat')))\n",
    "    lng = paillier.EncryptedNumber(customerKey, int(request.args.get('lng')))\n",
    "\n",
    "    return json.dumps({ })\n",
    "\n",
    "if __name__ == '__main__':\n",
    "    port = int(os.environ.get('PORT', 5000))\n",
    "    app.run(host='0.0.0.0', port=port, debug=True)"
   ]
  }
 ],
 "metadata": {
  "kernelspec": {
   "display_name": "Python 3",
   "language": "python",
   "name": "python3"
  },
  "language_info": {
   "codemirror_mode": {
    "name": "ipython",
    "version": 3
   },
   "file_extension": ".py",
   "mimetype": "text/x-python",
   "name": "python",
   "nbconvert_exporter": "python",
   "pygments_lexer": "ipython3",
   "version": "3.6.1"
  }
 },
 "nbformat": 4,
 "nbformat_minor": 2
}

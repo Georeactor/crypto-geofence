{
 "cells": [
  {
   "cell_type": "code",
   "execution_count": null,
   "metadata": {
    "collapsed": true
   },
   "outputs": [],
   "source": [
    "/**\n",
    "  OK cool, we are switching over to JavaScript / NodeJS now.\n",
    "  If you have only Python installed in Jupyter notebooks, you can read more here:\n",
    "  https://github.com/notablemind/jupyter-nodejs\n",
    "  \n",
    "  We need the client-side JavaScript to generate a public-private keypair\n",
    "  Then encrypt the client's geolocation\n",
    "  Then send it up to the server.\n",
    "  \n",
    "  This looks like the right library:\n",
    "  https://github.com/hardbyte/paillier.js\n",
    "  On GitHub it is called paillier.js, but the node module is 'homomorphicjs'\n",
    "  \n",
    "  You might wonder why not NodeJS on the server, then?\n",
    "  I couldn't solve how to make the JS library do addition and multiplication\n",
    "  It does everything that we need, though.\n",
    "*/"
   ]
  },
  {
   "cell_type": "code",
   "execution_count": 2,
   "metadata": {},
   "outputs": [
    {
     "name": "stdout",
     "output_type": "stream",
     "text": [
      "{\"public_key\":{\"g\":\"241633540509182103983082950696774583572\",\"n\":\"241633540509182103983082950696774583571\"},\"private_key\":{\"lambda\":\"241633540509182103951938125174484827944\",\"mu\":\"140422264154311621432317355421168792233\"},\"n_length\":128}\n"
     ]
    }
   ],
   "source": [
    "/*\n",
    "  When we work with the encrypted numbers, they are very big.\n",
    "  JavaScript only supports up to 53-bit integers http://2ality.com/2012/07/large-integers.html\n",
    "  \n",
    "  This library has jsbn as a dependency for handling big numbers. I did some stuff\n",
    "  to browserify it. But we are going to work with the NodeJS version.\n",
    "*/\n",
    "\n",
    "var phe = require('../node_modules/homomorphicjs');\n",
    "\n",
    "// Let's look at the keypair\n",
    "var keypair = phe.generate_paillier_keypair(128);\n",
    "console.log(keypair);"
   ]
  },
  {
   "cell_type": "code",
   "execution_count": 6,
   "metadata": {
    "collapsed": true
   },
   "outputs": [],
   "source": [
    "// Now let's get the latitude and longitude\n",
    "// In the browser this will work, but in NodeJS mode we will not know\n",
    "\n",
    "if (typeof navigator !== 'undefined') {\n",
    "  navigator.geolocation.getCurrentPosition(function(position) {\n",
    "    console.log(position);\n",
    "    /* {\n",
    "          coords: {\n",
    "            latitude: ##, longitude: ##, accuracy: ##\n",
    "          },\n",
    "          timestamp: ##\n",
    "       } */\n",
    "  }, function(errorResponse) {\n",
    "    console.log(errorResponse); \n",
    "  });\n",
    "} else {\n",
    "    // NodeJS version\n",
    "}"
   ]
  },
  {
   "cell_type": "code",
   "execution_count": null,
   "metadata": {
    "collapsed": true
   },
   "outputs": [],
   "source": [
    "// For the notebook, let's assume that we got these coordinates:\n",
    "\n",
    "var latitude = 19.7221702;\n",
    "var longitude = -155.0904464;\n",
    "\n",
    "// Round them to 3 decimal places like we did on the server\n",
    "// Handle negative latitude and longitude in this phase, too (0-360, not -180 to +180)\n",
    "latitude = Math.round(latitude * 1000) + 90000;\n",
    "longitude = Math.round(longitude * 1000) + 180000;\n",
    "\n",
    "\n",
    "hideLatitude = keypair.public_key.raw_encrypt(latitude);\n",
    "hideLongitude = keypair.public_key.raw_encrypt(longitude);\n",
    "\n",
    "// Unfortunately this totally broke Jupyter notebook. I promise that it works in the browser\n",
    "\n",
    "// Then post keypair.public_key.g,  keypair.public_key.n, latitude, and longitude to the server"
   ]
  },
  {
   "cell_type": "code",
   "execution_count": null,
   "metadata": {
    "collapsed": true
   },
   "outputs": [],
   "source": [
    "// Interpreting the response:\n",
    "\n",
    "var northOffset = kp.private_key.raw_decrypt(response.northOffset);\n",
    "var southOffset = kp.private_key.raw_decrypt(response.southOffset);\n",
    "var eastOffset = kp.private_key.raw_decrypt(response.eastOffset);\n",
    "var westOffset = kp.private_key.raw_decrypt(response.westOffset);\n",
    "\n",
    "// We check if x and y match by comparing to north-south and east-west bounds\n",
    "// Inside the geo-area, one of the pair should be positive, and the other should be negative\n",
    "// If the number is negative, it will appear very large on our side.\n",
    "\n",
    "var ymatch = \n",
    "    (Math.log(northOffset) > 50 && Math.log(southOffset) < 50) ||\n",
    "    (Math.log(northOffset) < 50 && Math.log(southOffset > 50));\n",
    "var xmatch =\n",
    "    (Math.log(eastOffset) > 50 && Math.log(westOffset) < 50) ||\n",
    "    (Math.log(eastOffset) < 50 && Math.log(westOffset > 50));\n",
    "\n",
    "if (xmatch && ymatch) { console.log('success!') }\n",
    "\n",
    "/*\n",
    "You might wonder why we generated the key on the client, and let the client decide.\n",
    "Why not generate the key on the server, let the client do the math on their coordinates, and\n",
    "then have the server determine if the client is within those bounds?\n",
    "\n",
    "- First, I don't have the JS working to do the addition and multiplication\n",
    "- Second, a sneaky server might start with a geobox around 0,0 and based on the user's answers,\n",
    "  test several different geofences to narrow down the client's location.  If we make a standard\n",
    "  for encrypting coordinates, it ought to be controlled and evaluated by the client.\n",
    "*/"
   ]
  }
 ],
 "metadata": {
  "kernelspec": {
   "display_name": "NodeJS",
   "language": "javascript",
   "name": "nodejs"
  },
  "language_info": {
   "codemirror_mode": "javascript",
   "file_extension": ".js",
   "mimetype": "text/javascript",
   "name": "nodejs",
   "pygments_lexer": "javascript",
   "version": "0.10"
  }
 },
 "nbformat": 4,
 "nbformat_minor": 2
}
